{
 "cells": [
  {
   "cell_type": "code",
   "execution_count": 1,
   "metadata": {},
   "outputs": [
    {
     "data": {
      "text/plain": [
       "True"
      ]
     },
     "execution_count": 1,
     "metadata": {},
     "output_type": "execute_result"
    }
   ],
   "source": [
    "from dotenv import load_dotenv\n",
    "load_dotenv()"
   ]
  },
  {
   "cell_type": "code",
   "execution_count": 2,
   "metadata": {},
   "outputs": [],
   "source": [
    "from langchain.chains import LLMChain\n",
    "from langchain.llms import OpenAI, OpenAIChat\n",
    "from langchain.prompts import PromptTemplate\n",
    "\n",
    "def build_chain(tpl_str, in_vars, out_key):\n",
    "    llm = OpenAI(temperature=0.7)\n",
    "    pt = PromptTemplate(input_variables=in_vars, template=tpl_str)\n",
    "    return LLMChain(llm=llm, prompt=pt, output_key=out_key)\n",
    "\n",
    "synopsis_tpl='''You are a playwright. Give the title of play, it is your job to write a synopsis in Chinese language for that title.\n",
    "\n",
    "Title: {title}\n",
    "Era: {era}\n",
    "Playwright: This is a synopsis for the above play in Chinese language:'''\n",
    "\n",
    "synopsis_chain = build_chain(tpl_str=synopsis_tpl, in_vars=[\"title\", \"era\"], out_key=\"synopsis\")\n",
    "\n",
    "review_template = '''You are a play critic from the New York Times. Given the synopsis of play, it is your job to write a review for that play.\n",
    "\n",
    "Play Synopsis:\n",
    "{synopsis}\n",
    "Review from a New York Times play critic of the above play:\n",
    "'''\n",
    "review_chain = build_chain(tpl_str=review_template, in_vars=[\"synopsis\"], out_key=\"review\")"
   ]
  },
  {
   "cell_type": "code",
   "execution_count": 3,
   "metadata": {},
   "outputs": [
    {
     "name": "stderr",
     "output_type": "stream",
     "text": [
      "Failed to post https://api.smith.langchain.com/runs in LangChain+ API. {\"detail\":\"Invalid API key\"}\n"
     ]
    },
    {
     "data": {
      "text/plain": [
       "{'question': 'Translate the following sentences by using the expressions in the brackets.\\n1)该大学校史馆展示了学校在中国百年发展历程中的重要贡献，让人印象深刻。（impressive）\\n2)学生食堂汇集了中国各地的美食。每当我食欲不佳的时候，我就换着菜肴吃。（lose one’s appetite）',\n",
       " 'language': '\\nAnswer: Chinese'}"
      ]
     },
     "execution_count": 3,
     "metadata": {},
     "output_type": "execute_result"
    }
   ],
   "source": [
    "lang_template = '''Question:\n",
    "```\n",
    "{question}\n",
    "```\n",
    "\n",
    "Tell me which language should be the answer of the question is:\n",
    "'''\n",
    "lang_chain = build_chain(tpl_str=lang_template, in_vars=[\"question\"], out_key=\"language\")\n",
    "\n",
    "lang_chain({\"question\": \"\"\"Translate the following sentences by using the expressions in the brackets.\n",
    "1)该大学校史馆展示了学校在中国百年发展历程中的重要贡献，让人印象深刻。（impressive）\n",
    "2)学生食堂汇集了中国各地的美食。每当我食欲不佳的时候，我就换着菜肴吃。（lose one’s appetite）\"\"\"})"
   ]
  },
  {
   "cell_type": "markdown",
   "metadata": {},
   "source": []
  },
  {
   "cell_type": "code",
   "execution_count": 4,
   "metadata": {},
   "outputs": [
    {
     "name": "stdout",
     "output_type": "stream",
     "text": [
      "\n",
      "\n",
      "\u001b[1m> Entering new SequentialChain chain...\u001b[0m\n"
     ]
    },
    {
     "name": "stderr",
     "output_type": "stream",
     "text": [
      "Failed to patch https://api.smith.langchain.com/runs/6baa82c5-edac-49f3-885d-51649aae4ffa in LangChain+ API. {\"detail\":\"Invalid API key\"}\n"
     ]
    },
    {
     "name": "stdout",
     "output_type": "stream",
     "text": [
      "\n",
      "\u001b[1m> Finished chain.\u001b[0m\n"
     ]
    }
   ],
   "source": [
    "from langchain.chains import SequentialChain\n",
    "overall_chain = SequentialChain(\n",
    "    chains=[synopsis_chain, review_chain],\n",
    "    input_variables=[\"era\", \"title\"],\n",
    "    # Here we return multiple variables\n",
    "    output_variables=[\"synopsis\", \"review\"],\n",
    "    verbose=True)\n",
    "\n",
    "resp = overall_chain({\"title\": \"What is your main tasks, as a Mom?\", \"era\": \"Earth\"})"
   ]
  },
  {
   "cell_type": "code",
   "execution_count": 5,
   "metadata": {},
   "outputs": [
    {
     "data": {
      "text/plain": [
       "['\\n\\n《你作为一个妈妈的主要任务是什么？》是一部关于地球上年轻母亲的悲剧',\n",
       " '剧中的主角是一位叫做萨拉的母亲，她是一位负责、勤劳和慈爱的母亲，但是她也有自己的梦想',\n",
       " '然而，她的梦想必须与她的母亲职责做出取舍，因为她面临着一系列挑战，从家庭的经济压力到与家庭成']"
      ]
     },
     "execution_count": 5,
     "metadata": {},
     "output_type": "execute_result"
    }
   ],
   "source": [
    "resp['synopsis'].split(\"。\")"
   ]
  },
  {
   "cell_type": "code",
   "execution_count": null,
   "metadata": {},
   "outputs": [],
   "source": []
  },
  {
   "cell_type": "code",
   "execution_count": null,
   "metadata": {},
   "outputs": [],
   "source": []
  },
  {
   "cell_type": "code",
   "execution_count": null,
   "metadata": {},
   "outputs": [],
   "source": []
  }
 ],
 "metadata": {
  "kernelspec": {
   "display_name": "venv",
   "language": "python",
   "name": "python3"
  },
  "language_info": {
   "codemirror_mode": {
    "name": "ipython",
    "version": 3
   },
   "file_extension": ".py",
   "mimetype": "text/x-python",
   "name": "python",
   "nbconvert_exporter": "python",
   "pygments_lexer": "ipython3",
   "version": "3.11.4"
  },
  "orig_nbformat": 4
 },
 "nbformat": 4,
 "nbformat_minor": 2
}
