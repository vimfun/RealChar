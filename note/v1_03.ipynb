{
 "cells": [
  {
   "cell_type": "markdown",
   "metadata": {},
   "source": [
    "## Doc default PT"
   ]
  },
  {
   "cell_type": "code",
   "execution_count": 1,
   "metadata": {},
   "outputs": [],
   "source": [
    "doc_pt = '''THE CONTEXT：\n",
    "```\n",
    "{docs_strs}\n",
    "```\n",
    "Analysis if THE CONTEXT is relative to the question bellow. If the\n",
    "context and the question are relative, generate the answer according the\n",
    "content of the context; if not, ignore the context and generate an patient and meticulous answer for Chinese college students .\n",
    "```\n",
    "{query}\n",
    "```\n",
    "Don't tell me the relativity,  just give me the generated ANSWER:'''"
   ]
  },
  {
   "cell_type": "markdown",
   "metadata": {},
   "source": [
    "## Choice Question PT"
   ]
  },
  {
   "cell_type": "code",
   "execution_count": 2,
   "metadata": {},
   "outputs": [],
   "source": [
    "choice_pt = '''下面的问题是一个选择题,请在返回的内容中不要给答案,不要要给具体的选项是什么,只是对选项做分析即可:\n",
    "```\n",
    "{query}\n",
    "```'''"
   ]
  },
  {
   "cell_type": "markdown",
   "metadata": {},
   "source": [
    "## Global Default PT"
   ]
  },
  {
   "cell_type": "code",
   "execution_count": 9,
   "metadata": {},
   "outputs": [],
   "source": [
    "default_pt='''您回复对象是中国大学生，请耐心细致的回答下面这个问题:\n",
    "```\n",
    "{query}\n",
    "```'''"
   ]
  },
  {
   "cell_type": "markdown",
   "metadata": {},
   "source": [
    "## Single Router PT"
   ]
  },
  {
   "cell_type": "code",
   "execution_count": 4,
   "metadata": {},
   "outputs": [],
   "source": [
    "if_else_router_pt = '''这是一个选择题吗？\n",
    "```\n",
    "{query}\n",
    "```\n",
    "如果是，就返回True;如果不是，就返回 False. Please give the result as a boolean value( \"True\" or \"False\"):'''"
   ]
  },
  {
   "cell_type": "code",
   "execution_count": 12,
   "metadata": {},
   "outputs": [],
   "source": [
    "from langchain.vectorstores import Chroma\n",
    "from langchain.document_loaders import DirectoryLoader\n",
    "from langchain.text_splitter import CharacterTextSplitter\n",
    "from langchain.embeddings import OpenAIEmbeddings\n",
    "\n",
    "class HiEngine:\n",
    "    def __init__(self, path=\"data/\", chunk_size=700):\n",
    "        loader = DirectoryLoader(path=path, glob=\"*.docx\")\n",
    "\n",
    "        # 加载文件夹中的所有txt类型的文件\n",
    "        # 将数据转成 document 对象，每个文件会作为一个 document\n",
    "        documents = loader.load()\n",
    "\n",
    "        # 初始化加载器\n",
    "        text_splitter = CharacterTextSplitter(chunk_size=chunk_size, chunk_overlap=int(chunk_size * 0.2))\n",
    "        # 切割加载的 document\n",
    "        split_docs = text_splitter.split_documents(documents)\n",
    "        ebd = OpenAIEmbeddings()\n",
    "        self.vdb = Chroma.from_documents(embedding=ebd, documents=split_docs, persist_directory=\"data/vdb\")\n",
    "\n",
    "def prepare_engine(chunk_size=700):\n",
    "    docsearch = Simi(split_docs)\n",
    "\n",
    "    _filter = LLMChainFilter.from_llm(llm=OpenAI(temperature=0.0))\n",
    "    __test_pt = PromptTemplate.from_template('''这是一个选择题吗？\\n```\\n{query}\\n```\\n 如果是，就返回True;如果不是，就返回 False. Please give the result as a boolean value( \"True\" or \"False\"):''')\n",
    "    __llm=OpenAI(temperature=0.2)\n",
    "    __llm=ChatOpenAI(model_name='gpt-3.5-turbo', temperature=0.6)\n",
    "    default_pt = PromptTemplate.from_template('您回复对象是中国大学生，请耐心细致的回答下面这个问题:\\n```\\n{query}\\n```')\n",
    "\n",
    "    def handle(query, pt='''检索内容：\\n```\\n{docs_strs}\\n```\\n\\n请基于以上内容，分析问题: \\n```\\n{query}\\n```''',\n",
    "               choice_pt='''下面的问题是一个选择题,请在返回的内容中不要给答案,不要要给具体的选项是什么,只是对选项做分析即可:\\n```\\n{query}\\n```\\n''',\n",
    "               default_pt='您回复对象是中国大学生，请耐心细致的回答下面这个问题:\\n```\\n{query}\\n```',\n",
    "               similarity_threshold=0.85,\n",
    "               squential_chain_cfg=[]):\n",
    "        default_pt = PromptTemplate.from_template(default_pt)\n",
    "        __pt = PromptTemplate.from_template(pt)\n",
    "        __ques_pt = PromptTemplate.from_template(choice_pt)\n",
    "        import json\n",
    "        if json.loads(__llm.predict(__test_pt.format(query=query)).lower()):\n",
    "            prompt = __ques_pt.format(query=query)\n",
    "            return query, prompt, __llm.predict(prompt), []\n",
    "\n",
    "        ds = [(d,s) for d, s in docsearch.similarity_search_with_score(query, k=141) if s > similarity_threshold][-3:]\n",
    "        if ds:\n",
    "            prompt = __pt.format(docs_strs='\\n\\n'.join([d.page_content for d,s in ds]), query=query)\n",
    "            return query, prompt, __llm.predict(prompt), [(json.loads(d.json()), s) for d,s in ds]\n",
    "        else:\n",
    "            prompt = default_pt.format(query=query)\n",
    "            return query, prompt, __llm.predict(prompt), []\n",
    "\n",
    "    return handle"
   ]
  },
  {
   "cell_type": "code",
   "execution_count": 13,
   "metadata": {},
   "outputs": [
    {
     "name": "stderr",
     "output_type": "stream",
     "text": [
      "Created a chunk of size 1038, which is longer than the specified 700\n",
      "Created a chunk of size 706, which is longer than the specified 700\n",
      "Created a chunk of size 724, which is longer than the specified 700\n",
      "Created a chunk of size 1021, which is longer than the specified 700\n",
      "Created a chunk of size 936, which is longer than the specified 700\n",
      "Created a chunk of size 807, which is longer than the specified 700\n",
      "Created a chunk of size 13646, which is longer than the specified 700\n",
      "Created a chunk of size 967, which is longer than the specified 700\n",
      "Created a chunk of size 1022, which is longer than the specified 700\n",
      "Created a chunk of size 939, which is longer than the specified 700\n",
      "Created a chunk of size 1281, which is longer than the specified 700\n",
      "Created a chunk of size 707, which is longer than the specified 700\n"
     ]
    }
   ],
   "source": [
    "e = HiEngine()"
   ]
  },
  {
   "cell_type": "code",
   "execution_count": 21,
   "metadata": {},
   "outputs": [
    {
     "data": {
      "text/plain": [
       "[(Document(page_content='Language points（Part）\\n\\nAfter a tiring car journey, we arrive at my hall of residence for me to get settled in. (Para. 1)\\n\\nNotes: A “hall of residence” is a college or university building where students live. In American English， it is called a dorm, dormitory, or residence hall.  \\n\\nMy room is five floors up, and the lift has a sign on it, “Out of order.” (Para. 1)\\n\\nMeaning: My room is on the fifth floor. But there is a sign on the lift, saying that the lift is not working. (So the author and her parents have to climb up to the fifth floor. That is why the author’s mother is flushed and gasping for breath.)', metadata={'source': 'data/B1U1_tch.docx'}),\n",
       "  0.7110286679218785),\n",
       " (Document(page_content='Reference answers\\n\\na-4  b-2  c-9  d-5  e-8  f-7  g-6\\n\\nSelf-reflection（Section）\\n\\nIn this part, T can ask Ss to refer back to Try it out in the Student’s Book and reflect on what they have learned. Ss can categorize their gains according to the same four aspects, i.e. content, language, structure, and communication. They can also reflect on how learning the unit may influence their action in their daily life. Then they can write down their specific gains in the self-reflection sheet in the Student’s book.（Text）\\n\\nTranslation of the texts（Section）\\n\\nActive reading\\n\\n大一新生日记\\n\\n星期日\\n\\n驱车经过一段疲惫的旅程后，我们到达了我住的宿舍楼。我的房间在五楼，可电梯上贴的指示牌写着“电梯已坏”。等我们终于找到了房间并走进去的时候，妈妈已经涨红了脸，累得上气不接下气。', metadata={'source': 'data/B1U1_tch.docx'}),\n",
       "  0.7103043743302189),\n",
       " (Document(page_content='Read the statements and identify the paragraphs from which the ideas are derived. \\n\\nThe lack of family members and old friends provides an opportunity to manage your own life.\\n\\nPeople may doubt the idea that college is the best time of your life. \\n\\nIf you make the most of college life, you will look back favorably on this period of time. \\n\\nWhen you overcome challenges in your studies, you will benefit a lot.\\n\\nYou will be a completely different person after your college education.\\n\\nA common experience binds college students together.\\n\\nSome college students choose to work as volunteers to serve society.\\n\\n Keys:\\n\\n1.D  2.A  3.I  4.E  5.H  6.G  7.F  （Text）\\n\\nSelf-reflection（Section）', metadata={'source': 'data/B1U1_stu.docx'}),\n",
       "  0.7090446261016525),\n",
       " (Document(page_content='Monday: As he speaks, his head jerks wildly from side to side … \\n\\nWednesday: I don’t even feel worthy of breathing the same air as her. \\n\\nFriday: I also have to swear that I won’t break the library rules, and if I do, I’ll be sent to prison.\\n\\nReference answers\\n\\nSunday: After one minute, my dad climbs out.\\n\\nThe author uses the phrase “climb out” to mean there is not enough room for the father to walk out. This exaggeration can give readers a vivid picture and leave them a deep impression. \\n\\nMonday：As he speaks, his head jerks wildly from side to side …', metadata={'source': 'data/B1U1_tch.docx'}),\n",
       "  0.7036890682082217)]"
      ]
     },
     "execution_count": 21,
     "metadata": {},
     "output_type": "execute_result"
    }
   ],
   "source": [
    "e.vdb.similarity_search_with_relevance_scores(\"Chapter\")"
   ]
  }
 ],
 "metadata": {
  "kernelspec": {
   "display_name": "venv",
   "language": "python",
   "name": "python3"
  },
  "language_info": {
   "codemirror_mode": {
    "name": "ipython",
    "version": 3
   },
   "file_extension": ".py",
   "mimetype": "text/x-python",
   "name": "python",
   "nbconvert_exporter": "python",
   "pygments_lexer": "ipython3",
   "version": "3.10.12"
  },
  "orig_nbformat": 4
 },
 "nbformat": 4,
 "nbformat_minor": 2
}
